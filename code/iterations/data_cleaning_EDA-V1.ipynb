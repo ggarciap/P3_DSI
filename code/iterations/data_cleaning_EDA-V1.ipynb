{
 "cells": [
  {
   "cell_type": "code",
   "execution_count": 65,
   "metadata": {},
   "outputs": [],
   "source": [
    "import pandas as pd\n",
    "import numpy as np\n",
    "import matplotlib.pyplot as plt\n",
    "import seaborn as sns"
   ]
  },
  {
   "cell_type": "code",
   "execution_count": 108,
   "metadata": {},
   "outputs": [],
   "source": [
    "from sklearn.feature_extraction.text import CountVectorizer\n",
    "from nltk.tokenize import sent_tokenize, word_tokenize, RegexpTokenizer, wordpunct_tokenize\n",
    "from nltk.sentiment.vader import SentimentIntensityAnalyzer\n",
    "from nltk.corpus import stopwords\n",
    "from nltk.corpus import words"
   ]
  },
  {
   "cell_type": "code",
   "execution_count": 67,
   "metadata": {},
   "outputs": [],
   "source": [
    "import re"
   ]
  },
  {
   "cell_type": "code",
   "execution_count": 68,
   "metadata": {},
   "outputs": [],
   "source": [
    "pd.options.mode.chained_assignment = None  # default='warn'"
   ]
  },
  {
   "cell_type": "markdown",
   "metadata": {},
   "source": [
    "## Data Cleaning"
   ]
  },
  {
   "cell_type": "code",
   "execution_count": 69,
   "metadata": {},
   "outputs": [
    {
     "data": {
      "text/html": [
       "<div>\n",
       "<style scoped>\n",
       "    .dataframe tbody tr th:only-of-type {\n",
       "        vertical-align: middle;\n",
       "    }\n",
       "\n",
       "    .dataframe tbody tr th {\n",
       "        vertical-align: top;\n",
       "    }\n",
       "\n",
       "    .dataframe thead th {\n",
       "        text-align: right;\n",
       "    }\n",
       "</style>\n",
       "<table border=\"1\" class=\"dataframe\">\n",
       "  <thead>\n",
       "    <tr style=\"text-align: right;\">\n",
       "      <th></th>\n",
       "      <th>all_awardings</th>\n",
       "      <th>associated_award</th>\n",
       "      <th>author</th>\n",
       "      <th>author_flair_background_color</th>\n",
       "      <th>author_flair_css_class</th>\n",
       "      <th>author_flair_template_id</th>\n",
       "      <th>author_flair_text</th>\n",
       "      <th>author_flair_text_color</th>\n",
       "      <th>awarders</th>\n",
       "      <th>body</th>\n",
       "      <th>...</th>\n",
       "      <th>treatment_tags</th>\n",
       "      <th>author_flair_richtext</th>\n",
       "      <th>author_flair_type</th>\n",
       "      <th>author_fullname</th>\n",
       "      <th>author_patreon_flair</th>\n",
       "      <th>author_premium</th>\n",
       "      <th>author_cakeday</th>\n",
       "      <th>distinguished</th>\n",
       "      <th>edited</th>\n",
       "      <th>steward_reports</th>\n",
       "    </tr>\n",
       "  </thead>\n",
       "  <tbody>\n",
       "    <tr>\n",
       "      <th>0</th>\n",
       "      <td>[]</td>\n",
       "      <td>NaN</td>\n",
       "      <td>[deleted]</td>\n",
       "      <td>NaN</td>\n",
       "      <td>NaN</td>\n",
       "      <td>NaN</td>\n",
       "      <td>NaN</td>\n",
       "      <td>dark</td>\n",
       "      <td>[]</td>\n",
       "      <td>[removed]</td>\n",
       "      <td>...</td>\n",
       "      <td>[]</td>\n",
       "      <td>NaN</td>\n",
       "      <td>NaN</td>\n",
       "      <td>NaN</td>\n",
       "      <td>NaN</td>\n",
       "      <td>NaN</td>\n",
       "      <td>NaN</td>\n",
       "      <td>NaN</td>\n",
       "      <td>NaN</td>\n",
       "      <td>NaN</td>\n",
       "    </tr>\n",
       "    <tr>\n",
       "      <th>1</th>\n",
       "      <td>[]</td>\n",
       "      <td>NaN</td>\n",
       "      <td>[deleted]</td>\n",
       "      <td>NaN</td>\n",
       "      <td>NaN</td>\n",
       "      <td>NaN</td>\n",
       "      <td>NaN</td>\n",
       "      <td>dark</td>\n",
       "      <td>[]</td>\n",
       "      <td>[removed]</td>\n",
       "      <td>...</td>\n",
       "      <td>[]</td>\n",
       "      <td>NaN</td>\n",
       "      <td>NaN</td>\n",
       "      <td>NaN</td>\n",
       "      <td>NaN</td>\n",
       "      <td>NaN</td>\n",
       "      <td>NaN</td>\n",
       "      <td>NaN</td>\n",
       "      <td>NaN</td>\n",
       "      <td>NaN</td>\n",
       "    </tr>\n",
       "    <tr>\n",
       "      <th>2</th>\n",
       "      <td>[]</td>\n",
       "      <td>NaN</td>\n",
       "      <td>[deleted]</td>\n",
       "      <td>NaN</td>\n",
       "      <td>NaN</td>\n",
       "      <td>NaN</td>\n",
       "      <td>NaN</td>\n",
       "      <td>dark</td>\n",
       "      <td>[]</td>\n",
       "      <td>[removed]</td>\n",
       "      <td>...</td>\n",
       "      <td>[]</td>\n",
       "      <td>NaN</td>\n",
       "      <td>NaN</td>\n",
       "      <td>NaN</td>\n",
       "      <td>NaN</td>\n",
       "      <td>NaN</td>\n",
       "      <td>NaN</td>\n",
       "      <td>NaN</td>\n",
       "      <td>NaN</td>\n",
       "      <td>NaN</td>\n",
       "    </tr>\n",
       "    <tr>\n",
       "      <th>3</th>\n",
       "      <td>[]</td>\n",
       "      <td>NaN</td>\n",
       "      <td>dumpsterworm</td>\n",
       "      <td>NaN</td>\n",
       "      <td>sung</td>\n",
       "      <td>ecc6ea06-1ac9-11e4-b0ce-12313d090e7a</td>\n",
       "      <td>NaN</td>\n",
       "      <td>dark</td>\n",
       "      <td>[]</td>\n",
       "      <td>Actually, I hadn't heard about that, and it is...</td>\n",
       "      <td>...</td>\n",
       "      <td>[]</td>\n",
       "      <td>[]</td>\n",
       "      <td>text</td>\n",
       "      <td>t2_dzbvzge</td>\n",
       "      <td>False</td>\n",
       "      <td>False</td>\n",
       "      <td>NaN</td>\n",
       "      <td>NaN</td>\n",
       "      <td>NaN</td>\n",
       "      <td>NaN</td>\n",
       "    </tr>\n",
       "    <tr>\n",
       "      <th>4</th>\n",
       "      <td>[]</td>\n",
       "      <td>NaN</td>\n",
       "      <td>[deleted]</td>\n",
       "      <td>NaN</td>\n",
       "      <td>NaN</td>\n",
       "      <td>NaN</td>\n",
       "      <td>NaN</td>\n",
       "      <td>dark</td>\n",
       "      <td>[]</td>\n",
       "      <td>[removed]</td>\n",
       "      <td>...</td>\n",
       "      <td>[]</td>\n",
       "      <td>NaN</td>\n",
       "      <td>NaN</td>\n",
       "      <td>NaN</td>\n",
       "      <td>NaN</td>\n",
       "      <td>NaN</td>\n",
       "      <td>NaN</td>\n",
       "      <td>NaN</td>\n",
       "      <td>NaN</td>\n",
       "      <td>NaN</td>\n",
       "    </tr>\n",
       "  </tbody>\n",
       "</table>\n",
       "<p>5 rows × 39 columns</p>\n",
       "</div>"
      ],
      "text/plain": [
       "  all_awardings  associated_award        author  \\\n",
       "0            []               NaN     [deleted]   \n",
       "1            []               NaN     [deleted]   \n",
       "2            []               NaN     [deleted]   \n",
       "3            []               NaN  dumpsterworm   \n",
       "4            []               NaN     [deleted]   \n",
       "\n",
       "   author_flair_background_color author_flair_css_class  \\\n",
       "0                            NaN                    NaN   \n",
       "1                            NaN                    NaN   \n",
       "2                            NaN                    NaN   \n",
       "3                            NaN                   sung   \n",
       "4                            NaN                    NaN   \n",
       "\n",
       "               author_flair_template_id  author_flair_text  \\\n",
       "0                                   NaN                NaN   \n",
       "1                                   NaN                NaN   \n",
       "2                                   NaN                NaN   \n",
       "3  ecc6ea06-1ac9-11e4-b0ce-12313d090e7a                NaN   \n",
       "4                                   NaN                NaN   \n",
       "\n",
       "  author_flair_text_color awarders  \\\n",
       "0                    dark       []   \n",
       "1                    dark       []   \n",
       "2                    dark       []   \n",
       "3                    dark       []   \n",
       "4                    dark       []   \n",
       "\n",
       "                                                body  ...  treatment_tags  \\\n",
       "0                                          [removed]  ...              []   \n",
       "1                                          [removed]  ...              []   \n",
       "2                                          [removed]  ...              []   \n",
       "3  Actually, I hadn't heard about that, and it is...  ...              []   \n",
       "4                                          [removed]  ...              []   \n",
       "\n",
       "   author_flair_richtext  author_flair_type author_fullname  \\\n",
       "0                    NaN                NaN             NaN   \n",
       "1                    NaN                NaN             NaN   \n",
       "2                    NaN                NaN             NaN   \n",
       "3                     []               text      t2_dzbvzge   \n",
       "4                    NaN                NaN             NaN   \n",
       "\n",
       "  author_patreon_flair  author_premium author_cakeday  distinguished  edited  \\\n",
       "0                  NaN             NaN            NaN            NaN     NaN   \n",
       "1                  NaN             NaN            NaN            NaN     NaN   \n",
       "2                  NaN             NaN            NaN            NaN     NaN   \n",
       "3                False           False            NaN            NaN     NaN   \n",
       "4                  NaN             NaN            NaN            NaN     NaN   \n",
       "\n",
       "  steward_reports  \n",
       "0             NaN  \n",
       "1             NaN  \n",
       "2             NaN  \n",
       "3             NaN  \n",
       "4             NaN  \n",
       "\n",
       "[5 rows x 39 columns]"
      ]
     },
     "execution_count": 69,
     "metadata": {},
     "output_type": "execute_result"
    }
   ],
   "source": [
    "df = pd.read_csv(\"../data/combined.csv\")\n",
    "initial_df = df\n",
    "df.head()"
   ]
  },
  {
   "cell_type": "code",
   "execution_count": 70,
   "metadata": {},
   "outputs": [
    {
     "data": {
      "text/plain": [
       "all_awardings                         0\n",
       "associated_award                   2200\n",
       "author                                0\n",
       "author_flair_background_color      2200\n",
       "author_flair_css_class             2087\n",
       "author_flair_template_id           2140\n",
       "author_flair_text                  2200\n",
       "author_flair_text_color            1807\n",
       "awarders                              0\n",
       "body                                  0\n",
       "collapsed_because_crowd_control    2200\n",
       "comment_type                       2200\n",
       "created_utc                           0\n",
       "gildings                              0\n",
       "id                                    0\n",
       "is_submitter                          0\n",
       "link_id                               0\n",
       "locked                                0\n",
       "no_follow                             0\n",
       "parent_id                             0\n",
       "permalink                             0\n",
       "retrieved_on                          0\n",
       "score                                 0\n",
       "send_replies                          0\n",
       "stickied                              0\n",
       "subreddit                             0\n",
       "subreddit_id                          0\n",
       "top_awarded_type                   2200\n",
       "total_awards_received                 0\n",
       "treatment_tags                      800\n",
       "author_flair_richtext               280\n",
       "author_flair_type                   280\n",
       "author_fullname                     280\n",
       "author_patreon_flair                280\n",
       "author_premium                      280\n",
       "author_cakeday                     2189\n",
       "distinguished                      2189\n",
       "edited                             2143\n",
       "steward_reports                    1800\n",
       "dtype: int64"
      ]
     },
     "execution_count": 70,
     "metadata": {},
     "output_type": "execute_result"
    }
   ],
   "source": [
    "df.isna().sum()"
   ]
  },
  {
   "cell_type": "code",
   "execution_count": 71,
   "metadata": {},
   "outputs": [
    {
     "data": {
      "text/plain": [
       "all_awardings                       object\n",
       "associated_award                   float64\n",
       "author                              object\n",
       "author_flair_background_color      float64\n",
       "author_flair_css_class              object\n",
       "author_flair_template_id            object\n",
       "author_flair_text                  float64\n",
       "author_flair_text_color             object\n",
       "awarders                            object\n",
       "body                                object\n",
       "collapsed_because_crowd_control    float64\n",
       "comment_type                       float64\n",
       "created_utc                          int64\n",
       "gildings                            object\n",
       "id                                  object\n",
       "is_submitter                          bool\n",
       "link_id                             object\n",
       "locked                                bool\n",
       "no_follow                             bool\n",
       "parent_id                           object\n",
       "permalink                           object\n",
       "retrieved_on                         int64\n",
       "score                                int64\n",
       "send_replies                          bool\n",
       "stickied                              bool\n",
       "subreddit                           object\n",
       "subreddit_id                        object\n",
       "top_awarded_type                   float64\n",
       "total_awards_received                int64\n",
       "treatment_tags                      object\n",
       "author_flair_richtext               object\n",
       "author_flair_type                   object\n",
       "author_fullname                     object\n",
       "author_patreon_flair                object\n",
       "author_premium                      object\n",
       "author_cakeday                      object\n",
       "distinguished                       object\n",
       "edited                             float64\n",
       "steward_reports                     object\n",
       "dtype: object"
      ]
     },
     "execution_count": 71,
     "metadata": {},
     "output_type": "execute_result"
    }
   ],
   "source": [
    "df.dtypes"
   ]
  },
  {
   "cell_type": "raw",
   "metadata": {},
   "source": [
    "# All columns with empty list or empty dict convert to nan\n",
    "empty_col_list = ['all_awardings', 'author_flair_richtext', 'awarders', 'treatment_tags']\n",
    "empty_dict = ['gildings']\n",
    "for element in list(df.columns):\n",
    "    if element in empty_col_list:\n",
    "        df[element] = df[element].apply(lambda x: None if x == '[]' else x)\n",
    "    if element in empty_dict:\n",
    "        df[element] = df[element].apply(lambda x: None if x == '{}' else x)\n",
    "\n",
    "# Features that have more that 80 percent of NAN\n",
    "not_features = [x for x in list(df.columns) if df[x].isna().sum() >= (df.shape[0]*.8)]\n",
    "not_features"
   ]
  },
  {
   "cell_type": "code",
   "execution_count": 72,
   "metadata": {},
   "outputs": [
    {
     "data": {
      "text/plain": [
       "2200"
      ]
     },
     "execution_count": 72,
     "metadata": {},
     "output_type": "execute_result"
    }
   ],
   "source": [
    "len(set(df['id']))"
   ]
  },
  {
   "cell_type": "code",
   "execution_count": 73,
   "metadata": {},
   "outputs": [
    {
     "data": {
      "text/html": [
       "<div>\n",
       "<style scoped>\n",
       "    .dataframe tbody tr th:only-of-type {\n",
       "        vertical-align: middle;\n",
       "    }\n",
       "\n",
       "    .dataframe tbody tr th {\n",
       "        vertical-align: top;\n",
       "    }\n",
       "\n",
       "    .dataframe thead th {\n",
       "        text-align: right;\n",
       "    }\n",
       "</style>\n",
       "<table border=\"1\" class=\"dataframe\">\n",
       "  <thead>\n",
       "    <tr style=\"text-align: right;\">\n",
       "      <th></th>\n",
       "      <th>body</th>\n",
       "      <th>subreddit</th>\n",
       "      <th>score</th>\n",
       "      <th>id</th>\n",
       "    </tr>\n",
       "  </thead>\n",
       "  <tbody>\n",
       "    <tr>\n",
       "      <th>0</th>\n",
       "      <td>[removed]</td>\n",
       "      <td>communism</td>\n",
       "      <td>0</td>\n",
       "      <td>g98roj8</td>\n",
       "    </tr>\n",
       "    <tr>\n",
       "      <th>1</th>\n",
       "      <td>[removed]</td>\n",
       "      <td>communism</td>\n",
       "      <td>1</td>\n",
       "      <td>g98uc83</td>\n",
       "    </tr>\n",
       "    <tr>\n",
       "      <th>2</th>\n",
       "      <td>[removed]</td>\n",
       "      <td>communism</td>\n",
       "      <td>1</td>\n",
       "      <td>g98ul9u</td>\n",
       "    </tr>\n",
       "    <tr>\n",
       "      <th>3</th>\n",
       "      <td>Actually, I hadn't heard about that, and it is...</td>\n",
       "      <td>communism</td>\n",
       "      <td>1</td>\n",
       "      <td>g98v0je</td>\n",
       "    </tr>\n",
       "    <tr>\n",
       "      <th>4</th>\n",
       "      <td>[removed]</td>\n",
       "      <td>communism</td>\n",
       "      <td>1</td>\n",
       "      <td>g98vr5q</td>\n",
       "    </tr>\n",
       "    <tr>\n",
       "      <th>...</th>\n",
       "      <td>...</td>\n",
       "      <td>...</td>\n",
       "      <td>...</td>\n",
       "      <td>...</td>\n",
       "    </tr>\n",
       "    <tr>\n",
       "      <th>2195</th>\n",
       "      <td>Tell him to put a sign on his door saying “fre...</td>\n",
       "      <td>Capitalism</td>\n",
       "      <td>1</td>\n",
       "      <td>fbho51q</td>\n",
       "    </tr>\n",
       "    <tr>\n",
       "      <th>2196</th>\n",
       "      <td>Without getting into a masters thesis on price...</td>\n",
       "      <td>Capitalism</td>\n",
       "      <td>1</td>\n",
       "      <td>fbhsc7h</td>\n",
       "    </tr>\n",
       "    <tr>\n",
       "      <th>2197</th>\n",
       "      <td>In my experience with pricing individual produ...</td>\n",
       "      <td>Capitalism</td>\n",
       "      <td>1</td>\n",
       "      <td>fbhtp3t</td>\n",
       "    </tr>\n",
       "    <tr>\n",
       "      <th>2198</th>\n",
       "      <td>One possibility is the effect of marketing and...</td>\n",
       "      <td>Capitalism</td>\n",
       "      <td>1</td>\n",
       "      <td>fbhwyys</td>\n",
       "    </tr>\n",
       "    <tr>\n",
       "      <th>2199</th>\n",
       "      <td>A company as large and savvy as McDonalds is a...</td>\n",
       "      <td>Capitalism</td>\n",
       "      <td>1</td>\n",
       "      <td>fbhx0bv</td>\n",
       "    </tr>\n",
       "  </tbody>\n",
       "</table>\n",
       "<p>2200 rows × 4 columns</p>\n",
       "</div>"
      ],
      "text/plain": [
       "                                                   body   subreddit  score  \\\n",
       "0                                             [removed]   communism      0   \n",
       "1                                             [removed]   communism      1   \n",
       "2                                             [removed]   communism      1   \n",
       "3     Actually, I hadn't heard about that, and it is...   communism      1   \n",
       "4                                             [removed]   communism      1   \n",
       "...                                                 ...         ...    ...   \n",
       "2195  Tell him to put a sign on his door saying “fre...  Capitalism      1   \n",
       "2196  Without getting into a masters thesis on price...  Capitalism      1   \n",
       "2197  In my experience with pricing individual produ...  Capitalism      1   \n",
       "2198  One possibility is the effect of marketing and...  Capitalism      1   \n",
       "2199  A company as large and savvy as McDonalds is a...  Capitalism      1   \n",
       "\n",
       "           id  \n",
       "0     g98roj8  \n",
       "1     g98uc83  \n",
       "2     g98ul9u  \n",
       "3     g98v0je  \n",
       "4     g98vr5q  \n",
       "...       ...  \n",
       "2195  fbho51q  \n",
       "2196  fbhsc7h  \n",
       "2197  fbhtp3t  \n",
       "2198  fbhwyys  \n",
       "2199  fbhx0bv  \n",
       "\n",
       "[2200 rows x 4 columns]"
      ]
     },
     "execution_count": 73,
     "metadata": {},
     "output_type": "execute_result"
    }
   ],
   "source": [
    "# Keeping only body and target column\n",
    "df = df[['body','subreddit', 'score', 'id']]\n",
    "df"
   ]
  },
  {
   "cell_type": "code",
   "execution_count": 74,
   "metadata": {},
   "outputs": [],
   "source": [
    "df.rename(columns={\"subreddit\": \"sub_class\"}, inplace=True)"
   ]
  },
  {
   "cell_type": "code",
   "execution_count": 75,
   "metadata": {},
   "outputs": [
    {
     "data": {
      "text/plain": [
       "{'Capitalism', 'communism'}"
      ]
     },
     "execution_count": 75,
     "metadata": {},
     "output_type": "execute_result"
    }
   ],
   "source": [
    "set(df['sub_class'])"
   ]
  },
  {
   "cell_type": "code",
   "execution_count": 76,
   "metadata": {},
   "outputs": [
    {
     "data": {
      "text/plain": [
       "1    1100\n",
       "0    1100\n",
       "Name: sub_class, dtype: int64"
      ]
     },
     "execution_count": 76,
     "metadata": {},
     "output_type": "execute_result"
    }
   ],
   "source": [
    "# Subreddit column modify to have binary classification\n",
    "# Mapping 'Capitalism' : 1 , and 'communism': 0\n",
    "\n",
    "df.loc[:,'sub_class'] = df['sub_class'].apply(lambda x : 1 if x == 'Capitalism' else 0)\n",
    "df['sub_class'].value_counts()"
   ]
  },
  {
   "cell_type": "code",
   "execution_count": 77,
   "metadata": {},
   "outputs": [
    {
     "data": {
      "text/html": [
       "<div>\n",
       "<style scoped>\n",
       "    .dataframe tbody tr th:only-of-type {\n",
       "        vertical-align: middle;\n",
       "    }\n",
       "\n",
       "    .dataframe tbody tr th {\n",
       "        vertical-align: top;\n",
       "    }\n",
       "\n",
       "    .dataframe thead th {\n",
       "        text-align: right;\n",
       "    }\n",
       "</style>\n",
       "<table border=\"1\" class=\"dataframe\">\n",
       "  <thead>\n",
       "    <tr style=\"text-align: right;\">\n",
       "      <th></th>\n",
       "      <th>body</th>\n",
       "      <th>sub_class</th>\n",
       "      <th>score</th>\n",
       "      <th>id</th>\n",
       "    </tr>\n",
       "  </thead>\n",
       "  <tbody>\n",
       "    <tr>\n",
       "      <th>0</th>\n",
       "      <td>None</td>\n",
       "      <td>0</td>\n",
       "      <td>0</td>\n",
       "      <td>g98roj8</td>\n",
       "    </tr>\n",
       "    <tr>\n",
       "      <th>1</th>\n",
       "      <td>None</td>\n",
       "      <td>0</td>\n",
       "      <td>1</td>\n",
       "      <td>g98uc83</td>\n",
       "    </tr>\n",
       "    <tr>\n",
       "      <th>2</th>\n",
       "      <td>None</td>\n",
       "      <td>0</td>\n",
       "      <td>1</td>\n",
       "      <td>g98ul9u</td>\n",
       "    </tr>\n",
       "    <tr>\n",
       "      <th>3</th>\n",
       "      <td>Actually, I hadn't heard about that, and it is...</td>\n",
       "      <td>0</td>\n",
       "      <td>1</td>\n",
       "      <td>g98v0je</td>\n",
       "    </tr>\n",
       "    <tr>\n",
       "      <th>4</th>\n",
       "      <td>None</td>\n",
       "      <td>0</td>\n",
       "      <td>1</td>\n",
       "      <td>g98vr5q</td>\n",
       "    </tr>\n",
       "    <tr>\n",
       "      <th>...</th>\n",
       "      <td>...</td>\n",
       "      <td>...</td>\n",
       "      <td>...</td>\n",
       "      <td>...</td>\n",
       "    </tr>\n",
       "    <tr>\n",
       "      <th>2195</th>\n",
       "      <td>Tell him to put a sign on his door saying “fre...</td>\n",
       "      <td>1</td>\n",
       "      <td>1</td>\n",
       "      <td>fbho51q</td>\n",
       "    </tr>\n",
       "    <tr>\n",
       "      <th>2196</th>\n",
       "      <td>Without getting into a masters thesis on price...</td>\n",
       "      <td>1</td>\n",
       "      <td>1</td>\n",
       "      <td>fbhsc7h</td>\n",
       "    </tr>\n",
       "    <tr>\n",
       "      <th>2197</th>\n",
       "      <td>In my experience with pricing individual produ...</td>\n",
       "      <td>1</td>\n",
       "      <td>1</td>\n",
       "      <td>fbhtp3t</td>\n",
       "    </tr>\n",
       "    <tr>\n",
       "      <th>2198</th>\n",
       "      <td>One possibility is the effect of marketing and...</td>\n",
       "      <td>1</td>\n",
       "      <td>1</td>\n",
       "      <td>fbhwyys</td>\n",
       "    </tr>\n",
       "    <tr>\n",
       "      <th>2199</th>\n",
       "      <td>A company as large and savvy as McDonalds is a...</td>\n",
       "      <td>1</td>\n",
       "      <td>1</td>\n",
       "      <td>fbhx0bv</td>\n",
       "    </tr>\n",
       "  </tbody>\n",
       "</table>\n",
       "<p>2200 rows × 4 columns</p>\n",
       "</div>"
      ],
      "text/plain": [
       "                                                   body  sub_class  score  \\\n",
       "0                                                  None          0      0   \n",
       "1                                                  None          0      1   \n",
       "2                                                  None          0      1   \n",
       "3     Actually, I hadn't heard about that, and it is...          0      1   \n",
       "4                                                  None          0      1   \n",
       "...                                                 ...        ...    ...   \n",
       "2195  Tell him to put a sign on his door saying “fre...          1      1   \n",
       "2196  Without getting into a masters thesis on price...          1      1   \n",
       "2197  In my experience with pricing individual produ...          1      1   \n",
       "2198  One possibility is the effect of marketing and...          1      1   \n",
       "2199  A company as large and savvy as McDonalds is a...          1      1   \n",
       "\n",
       "           id  \n",
       "0     g98roj8  \n",
       "1     g98uc83  \n",
       "2     g98ul9u  \n",
       "3     g98v0je  \n",
       "4     g98vr5q  \n",
       "...       ...  \n",
       "2195  fbho51q  \n",
       "2196  fbhsc7h  \n",
       "2197  fbhtp3t  \n",
       "2198  fbhwyys  \n",
       "2199  fbhx0bv  \n",
       "\n",
       "[2200 rows x 4 columns]"
      ]
     },
     "execution_count": 77,
     "metadata": {},
     "output_type": "execute_result"
    }
   ],
   "source": [
    "# body containing: '[removed]' needs to be treated like nan\n",
    "df['body'] = df['body'].apply(lambda x : None if x == '[removed]' else x)\n",
    "df"
   ]
  },
  {
   "cell_type": "code",
   "execution_count": 78,
   "metadata": {},
   "outputs": [
    {
     "data": {
      "text/plain": [
       "body         247\n",
       "sub_class      0\n",
       "score          0\n",
       "id             0\n",
       "dtype: int64"
      ]
     },
     "execution_count": 78,
     "metadata": {},
     "output_type": "execute_result"
    }
   ],
   "source": [
    "df.isna().sum()"
   ]
  },
  {
   "cell_type": "code",
   "execution_count": 79,
   "metadata": {},
   "outputs": [],
   "source": [
    "df = df.dropna()"
   ]
  },
  {
   "cell_type": "code",
   "execution_count": 80,
   "metadata": {},
   "outputs": [
    {
     "data": {
      "text/plain": [
       "1    0.543779\n",
       "0    0.456221\n",
       "Name: sub_class, dtype: float64"
      ]
     },
     "execution_count": 80,
     "metadata": {},
     "output_type": "execute_result"
    }
   ],
   "source": [
    "df['sub_class'].value_counts(normalize=True)"
   ]
  },
  {
   "cell_type": "code",
   "execution_count": 81,
   "metadata": {},
   "outputs": [
    {
     "data": {
      "text/plain": [
       "body         0\n",
       "sub_class    0\n",
       "score        0\n",
       "id           0\n",
       "dtype: int64"
      ]
     },
     "execution_count": 81,
     "metadata": {},
     "output_type": "execute_result"
    }
   ],
   "source": [
    "df.isna().sum()"
   ]
  },
  {
   "cell_type": "code",
   "execution_count": 82,
   "metadata": {},
   "outputs": [
    {
     "data": {
      "text/html": [
       "<div>\n",
       "<style scoped>\n",
       "    .dataframe tbody tr th:only-of-type {\n",
       "        vertical-align: middle;\n",
       "    }\n",
       "\n",
       "    .dataframe tbody tr th {\n",
       "        vertical-align: top;\n",
       "    }\n",
       "\n",
       "    .dataframe thead th {\n",
       "        text-align: right;\n",
       "    }\n",
       "</style>\n",
       "<table border=\"1\" class=\"dataframe\">\n",
       "  <thead>\n",
       "    <tr style=\"text-align: right;\">\n",
       "      <th></th>\n",
       "      <th>body</th>\n",
       "      <th>sub_class</th>\n",
       "      <th>score</th>\n",
       "      <th>id</th>\n",
       "    </tr>\n",
       "  </thead>\n",
       "  <tbody>\n",
       "    <tr>\n",
       "      <th>2195</th>\n",
       "      <td>Tell him to put a sign on his door saying “fre...</td>\n",
       "      <td>1</td>\n",
       "      <td>1</td>\n",
       "      <td>fbho51q</td>\n",
       "    </tr>\n",
       "    <tr>\n",
       "      <th>2196</th>\n",
       "      <td>Without getting into a masters thesis on price...</td>\n",
       "      <td>1</td>\n",
       "      <td>1</td>\n",
       "      <td>fbhsc7h</td>\n",
       "    </tr>\n",
       "    <tr>\n",
       "      <th>2197</th>\n",
       "      <td>In my experience with pricing individual produ...</td>\n",
       "      <td>1</td>\n",
       "      <td>1</td>\n",
       "      <td>fbhtp3t</td>\n",
       "    </tr>\n",
       "    <tr>\n",
       "      <th>2198</th>\n",
       "      <td>One possibility is the effect of marketing and...</td>\n",
       "      <td>1</td>\n",
       "      <td>1</td>\n",
       "      <td>fbhwyys</td>\n",
       "    </tr>\n",
       "    <tr>\n",
       "      <th>2199</th>\n",
       "      <td>A company as large and savvy as McDonalds is a...</td>\n",
       "      <td>1</td>\n",
       "      <td>1</td>\n",
       "      <td>fbhx0bv</td>\n",
       "    </tr>\n",
       "  </tbody>\n",
       "</table>\n",
       "</div>"
      ],
      "text/plain": [
       "                                                   body  sub_class  score  \\\n",
       "2195  Tell him to put a sign on his door saying “fre...          1      1   \n",
       "2196  Without getting into a masters thesis on price...          1      1   \n",
       "2197  In my experience with pricing individual produ...          1      1   \n",
       "2198  One possibility is the effect of marketing and...          1      1   \n",
       "2199  A company as large and savvy as McDonalds is a...          1      1   \n",
       "\n",
       "           id  \n",
       "2195  fbho51q  \n",
       "2196  fbhsc7h  \n",
       "2197  fbhtp3t  \n",
       "2198  fbhwyys  \n",
       "2199  fbhx0bv  "
      ]
     },
     "execution_count": 82,
     "metadata": {},
     "output_type": "execute_result"
    }
   ],
   "source": [
    "df.tail()"
   ]
  },
  {
   "cell_type": "markdown",
   "metadata": {},
   "source": [
    "## EDA + Feature Engineering"
   ]
  },
  {
   "cell_type": "markdown",
   "metadata": {},
   "source": [
    "- Before performing EDA it's important to add columns that can give us some text metrics of the text body\n"
   ]
  },
  {
   "cell_type": "code",
   "execution_count": 83,
   "metadata": {},
   "outputs": [],
   "source": [
    "temp_df = df.copy()"
   ]
  },
  {
   "cell_type": "code",
   "execution_count": 84,
   "metadata": {},
   "outputs": [],
   "source": [
    "# Reference for regex expression for matching all words\n",
    "# including the words with apostrophe\n",
    "# [Source]: https://stackoverflow.com/questions/36190267/match-words-with-hyphens-and-apostrophes?rq=1\n",
    "tokenizer = RegexpTokenizer(\"'?\\w[\\w']*(?:-\\w+)*'?\")\n",
    "tokenizer_char = RegexpTokenizer(\".\")\n",
    "\n",
    "df.loc[:,'word_count'] = df['body'].apply(lambda x: len(tokenizer.tokenize(x))).copy()\n",
    "df.loc[:,'count_char'] = df['body'].apply(lambda x: len(tokenizer_char.tokenize(x))).copy()"
   ]
  },
  {
   "cell_type": "code",
   "execution_count": 85,
   "metadata": {},
   "outputs": [
    {
     "data": {
      "text/html": [
       "<div>\n",
       "<style scoped>\n",
       "    .dataframe tbody tr th:only-of-type {\n",
       "        vertical-align: middle;\n",
       "    }\n",
       "\n",
       "    .dataframe tbody tr th {\n",
       "        vertical-align: top;\n",
       "    }\n",
       "\n",
       "    .dataframe thead th {\n",
       "        text-align: right;\n",
       "    }\n",
       "</style>\n",
       "<table border=\"1\" class=\"dataframe\">\n",
       "  <thead>\n",
       "    <tr style=\"text-align: right;\">\n",
       "      <th></th>\n",
       "      <th>body</th>\n",
       "      <th>sub_class</th>\n",
       "      <th>score</th>\n",
       "      <th>id</th>\n",
       "      <th>word_count</th>\n",
       "      <th>count_char</th>\n",
       "    </tr>\n",
       "  </thead>\n",
       "  <tbody>\n",
       "    <tr>\n",
       "      <th>3</th>\n",
       "      <td>Actually, I hadn't heard about that, and it is...</td>\n",
       "      <td>0</td>\n",
       "      <td>1</td>\n",
       "      <td>g98v0je</td>\n",
       "      <td>25</td>\n",
       "      <td>141</td>\n",
       "    </tr>\n",
       "    <tr>\n",
       "      <th>5</th>\n",
       "      <td>No offense to the OP, but no one really knows ...</td>\n",
       "      <td>0</td>\n",
       "      <td>2</td>\n",
       "      <td>g98w052</td>\n",
       "      <td>142</td>\n",
       "      <td>816</td>\n",
       "    </tr>\n",
       "    <tr>\n",
       "      <th>6</th>\n",
       "      <td>None taken. I wasn’t expecting a silver bullet...</td>\n",
       "      <td>0</td>\n",
       "      <td>1</td>\n",
       "      <td>g98wloj</td>\n",
       "      <td>53</td>\n",
       "      <td>295</td>\n",
       "    </tr>\n",
       "    <tr>\n",
       "      <th>7</th>\n",
       "      <td>Oh ok, thanks, now its just left to learn to m...</td>\n",
       "      <td>0</td>\n",
       "      <td>-1</td>\n",
       "      <td>g98x32f</td>\n",
       "      <td>39</td>\n",
       "      <td>187</td>\n",
       "    </tr>\n",
       "    <tr>\n",
       "      <th>9</th>\n",
       "      <td>what lol all I said is you should probably mak...</td>\n",
       "      <td>0</td>\n",
       "      <td>2</td>\n",
       "      <td>g98xoru</td>\n",
       "      <td>84</td>\n",
       "      <td>449</td>\n",
       "    </tr>\n",
       "  </tbody>\n",
       "</table>\n",
       "</div>"
      ],
      "text/plain": [
       "                                                body  sub_class  score  \\\n",
       "3  Actually, I hadn't heard about that, and it is...          0      1   \n",
       "5  No offense to the OP, but no one really knows ...          0      2   \n",
       "6  None taken. I wasn’t expecting a silver bullet...          0      1   \n",
       "7  Oh ok, thanks, now its just left to learn to m...          0     -1   \n",
       "9  what lol all I said is you should probably mak...          0      2   \n",
       "\n",
       "        id  word_count  count_char  \n",
       "3  g98v0je          25         141  \n",
       "5  g98w052         142         816  \n",
       "6  g98wloj          53         295  \n",
       "7  g98x32f          39         187  \n",
       "9  g98xoru          84         449  "
      ]
     },
     "execution_count": 85,
     "metadata": {},
     "output_type": "execute_result"
    }
   ],
   "source": [
    "df.head()"
   ]
  },
  {
   "cell_type": "code",
   "execution_count": 86,
   "metadata": {},
   "outputs": [
    {
     "data": {
      "image/png": "[encoded data removed]",
      "text/plain": [
       "<Figure size 432x288 with 1 Axes>"
      ]
     },
     "metadata": {
      "needs_background": "light"
     },
     "output_type": "display_data"
    }
   ],
   "source": [
    "# Examine dist of both 'word_count' and 'count_char'\n",
    "df['word_count'].hist(bins=30);"
   ]
  },
  {
   "cell_type": "code",
   "execution_count": 87,
   "metadata": {},
   "outputs": [
    {
     "data": {
      "image/png": "[encoded data removed]",
      "text/plain": [
       "<Figure size 432x288 with 1 Axes>"
      ]
     },
     "metadata": {
      "needs_background": "light"
     },
     "output_type": "display_data"
    }
   ],
   "source": [
    "df['count_char'].hist(bins=30);"
   ]
  },
  {
   "cell_type": "code",
   "execution_count": 88,
   "metadata": {},
   "outputs": [
    {
     "data": {
      "image/png": "[encoded data removed]",
      "text/plain": [
       "<Figure size 432x288 with 1 Axes>"
      ]
     },
     "metadata": {
      "needs_background": "light"
     },
     "output_type": "display_data"
    }
   ],
   "source": [
    "df['score'].hist(bins=30);"
   ]
  },
  {
   "cell_type": "code",
   "execution_count": 89,
   "metadata": {},
   "outputs": [
    {
     "data": {
      "image/png": "[encoded data removed]",
      "text/plain": [
       "<Figure size 720x720 with 20 Axes>"
      ]
     },
     "metadata": {
      "needs_background": "light"
     },
     "output_type": "display_data"
    }
   ],
   "source": [
    "# Pairplot of subreddit, word_count, count_char\n",
    "sns.pairplot(df[['sub_class', 'word_count', 'count_char','score']]);"
   ]
  },
  {
   "cell_type": "markdown",
   "metadata": {},
   "source": [
    "- `word_count`, `count_char` and `score` appear to be higly skewed to the right, so performing a log tranform can give us a better "
   ]
  },
  {
   "cell_type": "code",
   "execution_count": 90,
   "metadata": {},
   "outputs": [],
   "source": [
    "# Sqrt transfromations:\n",
    "# Because the data we want to tranform contains 0, sqrt can give us a \n",
    "# [Source]: https://towardsdatascience.com/top-3-methods-for-handling-skewed-data-1334e0debf45\n",
    "\n",
    "df.loc[:,'word_count_sqrt'] = np.sqrt(df['word_count'].copy())\n",
    "df.loc[:,'count_char_sqrt'] = np.sqrt(df['count_char'].copy())"
   ]
  },
  {
   "cell_type": "code",
   "execution_count": 91,
   "metadata": {},
   "outputs": [
    {
     "data": {
      "text/html": [
       "<div>\n",
       "<style scoped>\n",
       "    .dataframe tbody tr th:only-of-type {\n",
       "        vertical-align: middle;\n",
       "    }\n",
       "\n",
       "    .dataframe tbody tr th {\n",
       "        vertical-align: top;\n",
       "    }\n",
       "\n",
       "    .dataframe thead th {\n",
       "        text-align: right;\n",
       "    }\n",
       "</style>\n",
       "<table border=\"1\" class=\"dataframe\">\n",
       "  <thead>\n",
       "    <tr style=\"text-align: right;\">\n",
       "      <th></th>\n",
       "      <th>sub_class</th>\n",
       "      <th>score</th>\n",
       "      <th>word_count</th>\n",
       "      <th>count_char</th>\n",
       "      <th>word_count_sqrt</th>\n",
       "      <th>count_char_sqrt</th>\n",
       "    </tr>\n",
       "  </thead>\n",
       "  <tbody>\n",
       "    <tr>\n",
       "      <th>count</th>\n",
       "      <td>1953.000000</td>\n",
       "      <td>1953.000000</td>\n",
       "      <td>1953.000000</td>\n",
       "      <td>1953.000000</td>\n",
       "      <td>1953.000000</td>\n",
       "      <td>1953.000000</td>\n",
       "    </tr>\n",
       "    <tr>\n",
       "      <th>mean</th>\n",
       "      <td>0.543779</td>\n",
       "      <td>2.034818</td>\n",
       "      <td>54.991807</td>\n",
       "      <td>322.658986</td>\n",
       "      <td>6.092416</td>\n",
       "      <td>14.705426</td>\n",
       "    </tr>\n",
       "    <tr>\n",
       "      <th>std</th>\n",
       "      <td>0.498207</td>\n",
       "      <td>5.715221</td>\n",
       "      <td>97.362603</td>\n",
       "      <td>573.136963</td>\n",
       "      <td>4.228880</td>\n",
       "      <td>10.318136</td>\n",
       "    </tr>\n",
       "    <tr>\n",
       "      <th>min</th>\n",
       "      <td>0.000000</td>\n",
       "      <td>-10.000000</td>\n",
       "      <td>0.000000</td>\n",
       "      <td>1.000000</td>\n",
       "      <td>0.000000</td>\n",
       "      <td>1.000000</td>\n",
       "    </tr>\n",
       "    <tr>\n",
       "      <th>25%</th>\n",
       "      <td>0.000000</td>\n",
       "      <td>1.000000</td>\n",
       "      <td>11.000000</td>\n",
       "      <td>64.000000</td>\n",
       "      <td>3.316625</td>\n",
       "      <td>8.000000</td>\n",
       "    </tr>\n",
       "    <tr>\n",
       "      <th>50%</th>\n",
       "      <td>1.000000</td>\n",
       "      <td>1.000000</td>\n",
       "      <td>26.000000</td>\n",
       "      <td>145.000000</td>\n",
       "      <td>5.099020</td>\n",
       "      <td>12.041595</td>\n",
       "    </tr>\n",
       "    <tr>\n",
       "      <th>75%</th>\n",
       "      <td>1.000000</td>\n",
       "      <td>1.000000</td>\n",
       "      <td>60.000000</td>\n",
       "      <td>352.000000</td>\n",
       "      <td>7.745967</td>\n",
       "      <td>18.761663</td>\n",
       "    </tr>\n",
       "    <tr>\n",
       "      <th>max</th>\n",
       "      <td>1.000000</td>\n",
       "      <td>157.000000</td>\n",
       "      <td>1167.000000</td>\n",
       "      <td>6844.000000</td>\n",
       "      <td>34.161382</td>\n",
       "      <td>82.728472</td>\n",
       "    </tr>\n",
       "  </tbody>\n",
       "</table>\n",
       "</div>"
      ],
      "text/plain": [
       "         sub_class        score   word_count   count_char  word_count_sqrt  \\\n",
       "count  1953.000000  1953.000000  1953.000000  1953.000000      1953.000000   \n",
       "mean      0.543779     2.034818    54.991807   322.658986         6.092416   \n",
       "std       0.498207     5.715221    97.362603   573.136963         4.228880   \n",
       "min       0.000000   -10.000000     0.000000     1.000000         0.000000   \n",
       "25%       0.000000     1.000000    11.000000    64.000000         3.316625   \n",
       "50%       1.000000     1.000000    26.000000   145.000000         5.099020   \n",
       "75%       1.000000     1.000000    60.000000   352.000000         7.745967   \n",
       "max       1.000000   157.000000  1167.000000  6844.000000        34.161382   \n",
       "\n",
       "       count_char_sqrt  \n",
       "count      1953.000000  \n",
       "mean         14.705426  \n",
       "std          10.318136  \n",
       "min           1.000000  \n",
       "25%           8.000000  \n",
       "50%          12.041595  \n",
       "75%          18.761663  \n",
       "max          82.728472  "
      ]
     },
     "execution_count": 91,
     "metadata": {},
     "output_type": "execute_result"
    }
   ],
   "source": [
    "df.describe()"
   ]
  },
  {
   "cell_type": "code",
   "execution_count": 92,
   "metadata": {},
   "outputs": [
    {
     "data": {
      "image/png": "[encoded data removed]",
      "text/plain": [
       "<Figure size 540x540 with 12 Axes>"
      ]
     },
     "metadata": {
      "needs_background": "light"
     },
     "output_type": "display_data"
    }
   ],
   "source": [
    "sns.pairplot(df[['sub_class', 'word_count_sqrt', 'count_char_sqrt']]);"
   ]
  },
  {
   "cell_type": "markdown",
   "metadata": {},
   "source": [
    "## EDA on Vectorized text"
   ]
  },
  {
   "cell_type": "code",
   "execution_count": 93,
   "metadata": {},
   "outputs": [],
   "source": [
    "url_regex = \"(https?:\\/\\/(?:www\\.|(?!www))[a-zA-Z0-9][a-zA-Z0-9-]+[a-zA-Z0-9]\\.[^\\s]{2,}|www\\.[a-zA-Z0-9][a-zA-Z0-9-]+[a-zA-Z0-9]\\.[^\\s]{2,}|https?:\\/\\/(?:www\\.|(?!www))[a-zA-Z0-9]+\\.[^\\s]{2,}|www\\.[a-zA-Z0-9]+\\.[^\\s]{2,})\""
   ]
  },
  {
   "cell_type": "code",
   "execution_count": 94,
   "metadata": {},
   "outputs": [
    {
     "data": {
      "image/png": "[encoded data removed]",
      "text/plain": [
       "<Figure size 432x288 with 1 Axes>"
      ]
     },
     "metadata": {
      "needs_background": "light"
     },
     "output_type": "display_data"
    }
   ],
   "source": [
    "cvec_url = CountVectorizer(stop_words='english', token_pattern=url_regex, min_df=3)\n",
    "cvec_url.fit(df['body'])\n",
    "body_cv = cvec_url.transform(df['body'])\n",
    "body_df = pd.DataFrame(body_cv.todense(), columns=cvec_url.get_feature_names())\n",
    "top_25 = body_df.sum().sort_values(ascending=False).head(25)\n",
    "body_df.sum().sort_values(ascending=False).head(15).plot(kind='barh');"
   ]
  },
  {
   "cell_type": "code",
   "execution_count": 125,
   "metadata": {},
   "outputs": [],
   "source": [
    "# Remove URLs from body, after seeing that URLs don't seem to have common high counts\n",
    "regex_nums = \"[0-9]+\"\n",
    "def my_ref_filter(string):\n",
    "    result = re.sub(url_regex, '', string)\n",
    "    return result\n"
   ]
  },
  {
   "cell_type": "code",
   "execution_count": 126,
   "metadata": {},
   "outputs": [],
   "source": [
    "df.loc[:, 'body'] = df['body'].apply(my_ref_filter).copy()"
   ]
  },
  {
   "cell_type": "code",
   "execution_count": 129,
   "metadata": {},
   "outputs": [],
   "source": [
    "final_stopwords_list = stopwords.words('english') + stopwords.words('russian') "
   ]
  },
  {
   "cell_type": "code",
   "execution_count": 130,
   "metadata": {},
   "outputs": [],
   "source": [
    "cvec = CountVectorizer(stop_words= final_stopwords_list, min_df=2)"
   ]
  },
  {
   "cell_type": "code",
   "execution_count": 131,
   "metadata": {},
   "outputs": [],
   "source": [
    "cvec.fit(df['body'])\n",
    "body_cv = cvec.transform(df['body'])\n",
    "body_df = pd.DataFrame(body_cv.todense(), columns=cvec.get_feature_names())\n",
    "top_25 = body_df.sum().sort_values(ascending=False).head(25)\n"
   ]
  },
  {
   "cell_type": "code",
   "execution_count": 132,
   "metadata": {},
   "outputs": [
    {
     "data": {
      "image/png": "[encoded data removed]",
      "text/plain": [
       "<Figure size 432x288 with 1 Axes>"
      ]
     },
     "metadata": {
      "needs_background": "light"
     },
     "output_type": "display_data"
    }
   ],
   "source": [
    "body_df.sum().sort_values(ascending=False).head(15).plot(kind='barh');"
   ]
  },
  {
   "cell_type": "code",
   "execution_count": 133,
   "metadata": {},
   "outputs": [
    {
     "data": {
      "text/html": [
       "<div>\n",
       "<style scoped>\n",
       "    .dataframe tbody tr th:only-of-type {\n",
       "        vertical-align: middle;\n",
       "    }\n",
       "\n",
       "    .dataframe tbody tr th {\n",
       "        vertical-align: top;\n",
       "    }\n",
       "\n",
       "    .dataframe thead th {\n",
       "        text-align: right;\n",
       "    }\n",
       "</style>\n",
       "<table border=\"1\" class=\"dataframe\">\n",
       "  <thead>\n",
       "    <tr style=\"text-align: right;\">\n",
       "      <th></th>\n",
       "      <th>abandon</th>\n",
       "      <th>abide</th>\n",
       "      <th>ability</th>\n",
       "      <th>able</th>\n",
       "      <th>abroad</th>\n",
       "      <th>absence</th>\n",
       "      <th>absolute</th>\n",
       "      <th>absolutely</th>\n",
       "      <th>abstract</th>\n",
       "      <th>absurd</th>\n",
       "      <th>...</th>\n",
       "      <th>yacht</th>\n",
       "      <th>yea</th>\n",
       "      <th>yeah</th>\n",
       "      <th>year</th>\n",
       "      <th>yep</th>\n",
       "      <th>yes</th>\n",
       "      <th>yet</th>\n",
       "      <th>york</th>\n",
       "      <th>young</th>\n",
       "      <th>zero</th>\n",
       "    </tr>\n",
       "  </thead>\n",
       "  <tbody>\n",
       "    <tr>\n",
       "      <th>0</th>\n",
       "      <td>0</td>\n",
       "      <td>0</td>\n",
       "      <td>0</td>\n",
       "      <td>0</td>\n",
       "      <td>0</td>\n",
       "      <td>0</td>\n",
       "      <td>0</td>\n",
       "      <td>0</td>\n",
       "      <td>0</td>\n",
       "      <td>0</td>\n",
       "      <td>...</td>\n",
       "      <td>0</td>\n",
       "      <td>0</td>\n",
       "      <td>0</td>\n",
       "      <td>0</td>\n",
       "      <td>0</td>\n",
       "      <td>0</td>\n",
       "      <td>0</td>\n",
       "      <td>0</td>\n",
       "      <td>0</td>\n",
       "      <td>0</td>\n",
       "    </tr>\n",
       "    <tr>\n",
       "      <th>1</th>\n",
       "      <td>0</td>\n",
       "      <td>0</td>\n",
       "      <td>0</td>\n",
       "      <td>0</td>\n",
       "      <td>0</td>\n",
       "      <td>0</td>\n",
       "      <td>0</td>\n",
       "      <td>0</td>\n",
       "      <td>0</td>\n",
       "      <td>0</td>\n",
       "      <td>...</td>\n",
       "      <td>0</td>\n",
       "      <td>0</td>\n",
       "      <td>0</td>\n",
       "      <td>0</td>\n",
       "      <td>0</td>\n",
       "      <td>0</td>\n",
       "      <td>0</td>\n",
       "      <td>0</td>\n",
       "      <td>0</td>\n",
       "      <td>0</td>\n",
       "    </tr>\n",
       "    <tr>\n",
       "      <th>2</th>\n",
       "      <td>0</td>\n",
       "      <td>0</td>\n",
       "      <td>0</td>\n",
       "      <td>0</td>\n",
       "      <td>0</td>\n",
       "      <td>0</td>\n",
       "      <td>0</td>\n",
       "      <td>0</td>\n",
       "      <td>0</td>\n",
       "      <td>0</td>\n",
       "      <td>...</td>\n",
       "      <td>0</td>\n",
       "      <td>0</td>\n",
       "      <td>0</td>\n",
       "      <td>0</td>\n",
       "      <td>0</td>\n",
       "      <td>0</td>\n",
       "      <td>0</td>\n",
       "      <td>0</td>\n",
       "      <td>0</td>\n",
       "      <td>0</td>\n",
       "    </tr>\n",
       "    <tr>\n",
       "      <th>3</th>\n",
       "      <td>0</td>\n",
       "      <td>0</td>\n",
       "      <td>0</td>\n",
       "      <td>0</td>\n",
       "      <td>0</td>\n",
       "      <td>0</td>\n",
       "      <td>0</td>\n",
       "      <td>0</td>\n",
       "      <td>0</td>\n",
       "      <td>0</td>\n",
       "      <td>...</td>\n",
       "      <td>0</td>\n",
       "      <td>0</td>\n",
       "      <td>0</td>\n",
       "      <td>0</td>\n",
       "      <td>0</td>\n",
       "      <td>0</td>\n",
       "      <td>0</td>\n",
       "      <td>0</td>\n",
       "      <td>0</td>\n",
       "      <td>0</td>\n",
       "    </tr>\n",
       "    <tr>\n",
       "      <th>4</th>\n",
       "      <td>0</td>\n",
       "      <td>0</td>\n",
       "      <td>0</td>\n",
       "      <td>0</td>\n",
       "      <td>0</td>\n",
       "      <td>0</td>\n",
       "      <td>0</td>\n",
       "      <td>0</td>\n",
       "      <td>0</td>\n",
       "      <td>0</td>\n",
       "      <td>...</td>\n",
       "      <td>0</td>\n",
       "      <td>0</td>\n",
       "      <td>0</td>\n",
       "      <td>0</td>\n",
       "      <td>0</td>\n",
       "      <td>0</td>\n",
       "      <td>0</td>\n",
       "      <td>0</td>\n",
       "      <td>0</td>\n",
       "      <td>0</td>\n",
       "    </tr>\n",
       "  </tbody>\n",
       "</table>\n",
       "<p>5 rows × 3094 columns</p>\n",
       "</div>"
      ],
      "text/plain": [
       "   abandon  abide  ability  able  abroad  absence  absolute  absolutely  \\\n",
       "0        0      0        0     0       0        0         0           0   \n",
       "1        0      0        0     0       0        0         0           0   \n",
       "2        0      0        0     0       0        0         0           0   \n",
       "3        0      0        0     0       0        0         0           0   \n",
       "4        0      0        0     0       0        0         0           0   \n",
       "\n",
       "   abstract  absurd  ...  yacht  yea  yeah  year  yep  yes  yet  york  young  \\\n",
       "0         0       0  ...      0    0     0     0    0    0    0     0      0   \n",
       "1         0       0  ...      0    0     0     0    0    0    0     0      0   \n",
       "2         0       0  ...      0    0     0     0    0    0    0     0      0   \n",
       "3         0       0  ...      0    0     0     0    0    0    0     0      0   \n",
       "4         0       0  ...      0    0     0     0    0    0    0     0      0   \n",
       "\n",
       "   zero  \n",
       "0     0  \n",
       "1     0  \n",
       "2     0  \n",
       "3     0  \n",
       "4     0  \n",
       "\n",
       "[5 rows x 3094 columns]"
      ]
     },
     "execution_count": 133,
     "metadata": {},
     "output_type": "execute_result"
    }
   ],
   "source": [
    "body_df.head()"
   ]
  },
  {
   "cell_type": "code",
   "execution_count": 134,
   "metadata": {},
   "outputs": [
    {
     "data": {
      "text/plain": [
       "(1953, 3094)"
      ]
     },
     "execution_count": 134,
     "metadata": {},
     "output_type": "execute_result"
    }
   ],
   "source": [
    "body_df.shape"
   ]
  },
  {
   "cell_type": "code",
   "execution_count": 135,
   "metadata": {},
   "outputs": [
    {
     "data": {
      "text/html": [
       "<div>\n",
       "<style scoped>\n",
       "    .dataframe tbody tr th:only-of-type {\n",
       "        vertical-align: middle;\n",
       "    }\n",
       "\n",
       "    .dataframe tbody tr th {\n",
       "        vertical-align: top;\n",
       "    }\n",
       "\n",
       "    .dataframe thead th {\n",
       "        text-align: right;\n",
       "    }\n",
       "</style>\n",
       "<table border=\"1\" class=\"dataframe\">\n",
       "  <thead>\n",
       "    <tr style=\"text-align: right;\">\n",
       "      <th></th>\n",
       "      <th>body</th>\n",
       "      <th>sub_class</th>\n",
       "      <th>score</th>\n",
       "      <th>id</th>\n",
       "      <th>word_count</th>\n",
       "      <th>count_char</th>\n",
       "      <th>word_count_sqrt</th>\n",
       "      <th>count_char_sqrt</th>\n",
       "    </tr>\n",
       "  </thead>\n",
       "  <tbody>\n",
       "    <tr>\n",
       "      <th>3</th>\n",
       "      <td>Actually , I ' t about that , and it is extrem...</td>\n",
       "      <td>0</td>\n",
       "      <td>1</td>\n",
       "      <td>g98v0je</td>\n",
       "      <td>25</td>\n",
       "      <td>141</td>\n",
       "      <td>5.000000</td>\n",
       "      <td>11.874342</td>\n",
       "    </tr>\n",
       "    <tr>\n",
       "      <th>5</th>\n",
       "      <td>No offense to the , but no one really for cert...</td>\n",
       "      <td>0</td>\n",
       "      <td>2</td>\n",
       "      <td>g98w052</td>\n",
       "      <td>142</td>\n",
       "      <td>816</td>\n",
       "      <td>11.916375</td>\n",
       "      <td>28.565714</td>\n",
       "    </tr>\n",
       "    <tr>\n",
       "      <th>6</th>\n",
       "      <td>None taken . I ’ t a silver bullet solution . ...</td>\n",
       "      <td>0</td>\n",
       "      <td>1</td>\n",
       "      <td>g98wloj</td>\n",
       "      <td>53</td>\n",
       "      <td>295</td>\n",
       "      <td>7.280110</td>\n",
       "      <td>17.175564</td>\n",
       "    </tr>\n",
       "    <tr>\n",
       "      <th>7</th>\n",
       "      <td>Oh , thanks , now its just left to learn to ma...</td>\n",
       "      <td>0</td>\n",
       "      <td>-1</td>\n",
       "      <td>g98x32f</td>\n",
       "      <td>39</td>\n",
       "      <td>187</td>\n",
       "      <td>6.244998</td>\n",
       "      <td>13.674794</td>\n",
       "    </tr>\n",
       "    <tr>\n",
       "      <th>9</th>\n",
       "      <td>what all I said is you should probably make th...</td>\n",
       "      <td>0</td>\n",
       "      <td>2</td>\n",
       "      <td>g98xoru</td>\n",
       "      <td>84</td>\n",
       "      <td>449</td>\n",
       "      <td>9.165151</td>\n",
       "      <td>21.189620</td>\n",
       "    </tr>\n",
       "  </tbody>\n",
       "</table>\n",
       "</div>"
      ],
      "text/plain": [
       "                                                body  sub_class  score  \\\n",
       "3  Actually , I ' t about that , and it is extrem...          0      1   \n",
       "5  No offense to the , but no one really for cert...          0      2   \n",
       "6  None taken . I ’ t a silver bullet solution . ...          0      1   \n",
       "7  Oh , thanks , now its just left to learn to ma...          0     -1   \n",
       "9  what all I said is you should probably make th...          0      2   \n",
       "\n",
       "        id  word_count  count_char  word_count_sqrt  count_char_sqrt  \n",
       "3  g98v0je          25         141         5.000000        11.874342  \n",
       "5  g98w052         142         816        11.916375        28.565714  \n",
       "6  g98wloj          53         295         7.280110        17.175564  \n",
       "7  g98x32f          39         187         6.244998        13.674794  \n",
       "9  g98xoru          84         449         9.165151        21.189620  "
      ]
     },
     "execution_count": 135,
     "metadata": {},
     "output_type": "execute_result"
    }
   ],
   "source": [
    "df.head()"
   ]
  },
  {
   "cell_type": "code",
   "execution_count": 136,
   "metadata": {},
   "outputs": [
    {
     "data": {
      "text/plain": [
       "Index(['body', 'sub_class', 'score', 'id', 'word_count', 'count_char',\n",
       "       'word_count_sqrt', 'count_char_sqrt'],\n",
       "      dtype='object')"
      ]
     },
     "execution_count": 136,
     "metadata": {},
     "output_type": "execute_result"
    }
   ],
   "source": [
    "df.columns"
   ]
  },
  {
   "cell_type": "code",
   "execution_count": 137,
   "metadata": {},
   "outputs": [
    {
     "data": {
      "text/plain": [
       "(1953, 8)"
      ]
     },
     "execution_count": 137,
     "metadata": {},
     "output_type": "execute_result"
    }
   ],
   "source": [
    "df.shape"
   ]
  },
  {
   "cell_type": "code",
   "execution_count": 138,
   "metadata": {},
   "outputs": [],
   "source": [
    "# IMPORTNAT ! **RESETIING INDEX**\n",
    "test = df.reset_index(drop=True)"
   ]
  },
  {
   "cell_type": "code",
   "execution_count": 139,
   "metadata": {},
   "outputs": [
    {
     "data": {
      "text/html": [
       "<div>\n",
       "<style scoped>\n",
       "    .dataframe tbody tr th:only-of-type {\n",
       "        vertical-align: middle;\n",
       "    }\n",
       "\n",
       "    .dataframe tbody tr th {\n",
       "        vertical-align: top;\n",
       "    }\n",
       "\n",
       "    .dataframe thead th {\n",
       "        text-align: right;\n",
       "    }\n",
       "</style>\n",
       "<table border=\"1\" class=\"dataframe\">\n",
       "  <thead>\n",
       "    <tr style=\"text-align: right;\">\n",
       "      <th></th>\n",
       "      <th>body</th>\n",
       "      <th>sub_class</th>\n",
       "      <th>score</th>\n",
       "      <th>id</th>\n",
       "      <th>word_count</th>\n",
       "      <th>count_char</th>\n",
       "      <th>word_count_sqrt</th>\n",
       "      <th>count_char_sqrt</th>\n",
       "      <th>abandon</th>\n",
       "      <th>abide</th>\n",
       "      <th>...</th>\n",
       "      <th>yacht</th>\n",
       "      <th>yea</th>\n",
       "      <th>yeah</th>\n",
       "      <th>year</th>\n",
       "      <th>yep</th>\n",
       "      <th>yes</th>\n",
       "      <th>yet</th>\n",
       "      <th>york</th>\n",
       "      <th>young</th>\n",
       "      <th>zero</th>\n",
       "    </tr>\n",
       "  </thead>\n",
       "  <tbody>\n",
       "    <tr>\n",
       "      <th>0</th>\n",
       "      <td>Actually , I ' t about that , and it is extrem...</td>\n",
       "      <td>0</td>\n",
       "      <td>1</td>\n",
       "      <td>g98v0je</td>\n",
       "      <td>25</td>\n",
       "      <td>141</td>\n",
       "      <td>5.0</td>\n",
       "      <td>11.874342</td>\n",
       "      <td>0</td>\n",
       "      <td>0</td>\n",
       "      <td>...</td>\n",
       "      <td>0</td>\n",
       "      <td>0</td>\n",
       "      <td>0</td>\n",
       "      <td>0</td>\n",
       "      <td>0</td>\n",
       "      <td>0</td>\n",
       "      <td>0</td>\n",
       "      <td>0</td>\n",
       "      <td>0</td>\n",
       "      <td>0</td>\n",
       "    </tr>\n",
       "  </tbody>\n",
       "</table>\n",
       "<p>1 rows × 3102 columns</p>\n",
       "</div>"
      ],
      "text/plain": [
       "                                                body  sub_class  score  \\\n",
       "0  Actually , I ' t about that , and it is extrem...          0      1   \n",
       "\n",
       "        id  word_count  count_char  word_count_sqrt  count_char_sqrt  abandon  \\\n",
       "0  g98v0je          25         141              5.0        11.874342        0   \n",
       "\n",
       "   abide  ...  yacht  yea  yeah  year  yep  yes  yet  york  young  zero  \n",
       "0      0  ...      0    0     0     0    0    0    0     0      0     0  \n",
       "\n",
       "[1 rows x 3102 columns]"
      ]
     },
     "execution_count": 139,
     "metadata": {},
     "output_type": "execute_result"
    }
   ],
   "source": [
    "vect_plus_org = pd.concat([test, body_df], axis=1)\n",
    "vect_plus_org.head(1)"
   ]
  },
  {
   "cell_type": "markdown",
   "metadata": {},
   "source": [
    "## EDA on VADER"
   ]
  },
  {
   "cell_type": "code",
   "execution_count": 140,
   "metadata": {},
   "outputs": [],
   "source": [
    "corpus = list(df['body'])\n",
    "id_corpus = list(df['id'])\n",
    "sia = SentimentIntensityAnalyzer()"
   ]
  },
  {
   "cell_type": "code",
   "execution_count": 141,
   "metadata": {},
   "outputs": [
    {
     "data": {
      "text/html": [
       "<div>\n",
       "<style scoped>\n",
       "    .dataframe tbody tr th:only-of-type {\n",
       "        vertical-align: middle;\n",
       "    }\n",
       "\n",
       "    .dataframe tbody tr th {\n",
       "        vertical-align: top;\n",
       "    }\n",
       "\n",
       "    .dataframe thead th {\n",
       "        text-align: right;\n",
       "    }\n",
       "</style>\n",
       "<table border=\"1\" class=\"dataframe\">\n",
       "  <thead>\n",
       "    <tr style=\"text-align: right;\">\n",
       "      <th></th>\n",
       "      <th>neg</th>\n",
       "      <th>neu</th>\n",
       "      <th>pos</th>\n",
       "      <th>compound</th>\n",
       "      <th>body</th>\n",
       "      <th>id</th>\n",
       "    </tr>\n",
       "  </thead>\n",
       "  <tbody>\n",
       "    <tr>\n",
       "      <th>0</th>\n",
       "      <td>0.088</td>\n",
       "      <td>0.773</td>\n",
       "      <td>0.140</td>\n",
       "      <td>0.2967</td>\n",
       "      <td>Actually , I ' t about that , and it is extrem...</td>\n",
       "      <td>g98v0je</td>\n",
       "    </tr>\n",
       "    <tr>\n",
       "      <th>1</th>\n",
       "      <td>0.155</td>\n",
       "      <td>0.725</td>\n",
       "      <td>0.120</td>\n",
       "      <td>-0.6457</td>\n",
       "      <td>No offense to the , but no one really for cert...</td>\n",
       "      <td>g98w052</td>\n",
       "    </tr>\n",
       "    <tr>\n",
       "      <th>2</th>\n",
       "      <td>0.000</td>\n",
       "      <td>0.941</td>\n",
       "      <td>0.059</td>\n",
       "      <td>0.3182</td>\n",
       "      <td>None taken . I ’ t a silver bullet solution . ...</td>\n",
       "      <td>g98wloj</td>\n",
       "    </tr>\n",
       "    <tr>\n",
       "      <th>3</th>\n",
       "      <td>0.239</td>\n",
       "      <td>0.679</td>\n",
       "      <td>0.082</td>\n",
       "      <td>-0.6771</td>\n",
       "      <td>Oh , thanks , now its just left to learn to ma...</td>\n",
       "      <td>g98x32f</td>\n",
       "    </tr>\n",
       "    <tr>\n",
       "      <th>4</th>\n",
       "      <td>0.045</td>\n",
       "      <td>0.800</td>\n",
       "      <td>0.155</td>\n",
       "      <td>0.8014</td>\n",
       "      <td>what all I said is you should probably make th...</td>\n",
       "      <td>g98xoru</td>\n",
       "    </tr>\n",
       "  </tbody>\n",
       "</table>\n",
       "</div>"
      ],
      "text/plain": [
       "     neg    neu    pos  compound  \\\n",
       "0  0.088  0.773  0.140    0.2967   \n",
       "1  0.155  0.725  0.120   -0.6457   \n",
       "2  0.000  0.941  0.059    0.3182   \n",
       "3  0.239  0.679  0.082   -0.6771   \n",
       "4  0.045  0.800  0.155    0.8014   \n",
       "\n",
       "                                                body       id  \n",
       "0  Actually , I ' t about that , and it is extrem...  g98v0je  \n",
       "1  No offense to the , but no one really for cert...  g98w052  \n",
       "2  None taken . I ’ t a silver bullet solution . ...  g98wloj  \n",
       "3  Oh , thanks , now its just left to learn to ma...  g98x32f  \n",
       "4  what all I said is you should probably make th...  g98xoru  "
      ]
     },
     "execution_count": 141,
     "metadata": {},
     "output_type": "execute_result"
    }
   ],
   "source": [
    "# create dataframe that contains text and the polarity scores for each tweet\n",
    "# Reference taken from EC_local_flex exercie\n",
    "dicts = []    \n",
    "counter = 0\n",
    "for text in corpus:\n",
    "    scores = sia.polarity_scores(text)\n",
    "    scores['body'] = text\n",
    "    scores['id'] = id_corpus[counter]\n",
    "    dicts.append(scores)\n",
    "    counter+=1\n",
    "df_vader = pd.DataFrame(dicts)\n",
    "df_vader.head()"
   ]
  },
  {
   "cell_type": "code",
   "execution_count": 50,
   "metadata": {},
   "outputs": [
    {
     "data": {
      "text/plain": [
       "Index(['neg', 'neu', 'pos', 'compound', 'body', 'id'], dtype='object')"
      ]
     },
     "execution_count": 50,
     "metadata": {},
     "output_type": "execute_result"
    }
   ],
   "source": [
    "df_vader.columns"
   ]
  },
  {
   "cell_type": "code",
   "execution_count": 44,
   "metadata": {},
   "outputs": [
    {
     "name": "stdout",
     "output_type": "stream",
     "text": [
      "Shape df: (1953, 8)\n",
      "Shape body_df: (1953, 3173)\n",
      "Shape df_vader: (1953, 6)\n"
     ]
    }
   ],
   "source": [
    "print(f'Shape df: {df.shape}')\n",
    "print(f'Shape body_df: {body_df.shape}')\n",
    "print(f'Shape df_vader: {df_vader.shape}')"
   ]
  },
  {
   "cell_type": "code",
   "execution_count": 45,
   "metadata": {},
   "outputs": [
    {
     "data": {
      "text/plain": [
       "1953"
      ]
     },
     "execution_count": 45,
     "metadata": {},
     "output_type": "execute_result"
    }
   ],
   "source": [
    "len(set(df['id']))"
   ]
  },
  {
   "cell_type": "code",
   "execution_count": 46,
   "metadata": {},
   "outputs": [
    {
     "data": {
      "text/plain": [
       "1953"
      ]
     },
     "execution_count": 46,
     "metadata": {},
     "output_type": "execute_result"
    }
   ],
   "source": [
    "len(set(df_vader['id']))"
   ]
  },
  {
   "cell_type": "code",
   "execution_count": 47,
   "metadata": {},
   "outputs": [
    {
     "data": {
      "text/html": [
       "<div>\n",
       "<style scoped>\n",
       "    .dataframe tbody tr th:only-of-type {\n",
       "        vertical-align: middle;\n",
       "    }\n",
       "\n",
       "    .dataframe tbody tr th {\n",
       "        vertical-align: top;\n",
       "    }\n",
       "\n",
       "    .dataframe thead th {\n",
       "        text-align: right;\n",
       "    }\n",
       "</style>\n",
       "<table border=\"1\" class=\"dataframe\">\n",
       "  <thead>\n",
       "    <tr style=\"text-align: right;\">\n",
       "      <th></th>\n",
       "      <th>body</th>\n",
       "      <th>sub_class</th>\n",
       "      <th>score</th>\n",
       "      <th>id</th>\n",
       "      <th>word_count</th>\n",
       "      <th>count_char</th>\n",
       "      <th>word_count_sqrt</th>\n",
       "      <th>count_char_sqrt</th>\n",
       "      <th>000</th>\n",
       "      <th>10</th>\n",
       "      <th>...</th>\n",
       "      <th>yes</th>\n",
       "      <th>yet</th>\n",
       "      <th>york</th>\n",
       "      <th>young</th>\n",
       "      <th>youtube</th>\n",
       "      <th>zero</th>\n",
       "      <th>neg</th>\n",
       "      <th>neu</th>\n",
       "      <th>pos</th>\n",
       "      <th>compound</th>\n",
       "    </tr>\n",
       "  </thead>\n",
       "  <tbody>\n",
       "    <tr>\n",
       "      <th>0</th>\n",
       "      <td>Actually, I hadn't heard about that, and it is...</td>\n",
       "      <td>0</td>\n",
       "      <td>1</td>\n",
       "      <td>g98v0je</td>\n",
       "      <td>25</td>\n",
       "      <td>141</td>\n",
       "      <td>5.0</td>\n",
       "      <td>11.874342</td>\n",
       "      <td>0</td>\n",
       "      <td>0</td>\n",
       "      <td>...</td>\n",
       "      <td>0</td>\n",
       "      <td>0</td>\n",
       "      <td>0</td>\n",
       "      <td>0</td>\n",
       "      <td>0</td>\n",
       "      <td>0</td>\n",
       "      <td>0.078</td>\n",
       "      <td>0.799</td>\n",
       "      <td>0.124</td>\n",
       "      <td>0.2967</td>\n",
       "    </tr>\n",
       "  </tbody>\n",
       "</table>\n",
       "<p>1 rows × 3185 columns</p>\n",
       "</div>"
      ],
      "text/plain": [
       "                                                body  sub_class  score  \\\n",
       "0  Actually, I hadn't heard about that, and it is...          0      1   \n",
       "\n",
       "        id  word_count  count_char  word_count_sqrt  count_char_sqrt  000  10  \\\n",
       "0  g98v0je          25         141              5.0        11.874342    0   0   \n",
       "\n",
       "   ...  yes  yet  york  young  youtube  zero    neg    neu    pos  compound  \n",
       "0  ...    0    0     0      0        0     0  0.078  0.799  0.124    0.2967  \n",
       "\n",
       "[1 rows x 3185 columns]"
      ]
     },
     "execution_count": 47,
     "metadata": {},
     "output_type": "execute_result"
    }
   ],
   "source": [
    "merged = vect_plus_org.merge(df_vader, on='id')\n",
    "merged = merged.drop(columns=['body_y'])\n",
    "merged = merged.rename(columns={\"body_x\": \"body\"})\n",
    "merged.head(1)"
   ]
  },
  {
   "cell_type": "markdown",
   "metadata": {},
   "source": [
    "### Export dataset used for modeling\n"
   ]
  },
  {
   "cell_type": "code",
   "execution_count": 48,
   "metadata": {},
   "outputs": [],
   "source": [
    "#merged.to_csv('../data/data_modeling.csv', index=False)"
   ]
  },
  {
   "cell_type": "code",
   "execution_count": null,
   "metadata": {},
   "outputs": [],
   "source": []
  }
 ],
 "metadata": {
  "kernelspec": {
   "display_name": "Python 3",
   "language": "python",
   "name": "python3"
  },
  "language_info": {
   "codemirror_mode": {
    "name": "ipython",
    "version": 3
   },
   "file_extension": ".py",
   "mimetype": "text/x-python",
   "name": "python",
   "nbconvert_exporter": "python",
   "pygments_lexer": "ipython3",
   "version": "3.8.3"
  }
 },
 "nbformat": 4,
 "nbformat_minor": 4
}
